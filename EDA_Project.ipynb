{
 "cells": [
  {
   "cell_type": "markdown",
   "id": "adverse-governor",
   "metadata": {},
   "source": [
    "### Starting Point"
   ]
  },
  {
   "cell_type": "markdown",
   "id": "determined-percentage",
   "metadata": {},
   "source": [
    "A dataset containing information on bank wages of various demographic characteristics has been submitted to me. It contains the following columns\n",
    "\n",
    "\n",
    "* **SALARY**:  current yearly salary in dollar\n",
    "* **EDUC**: education (number of finished years)\n",
    "* **SALBEGIN**: yearly salary at employee's first position at same bank in dollar\n",
    "* **GENDER**: gender variable (0 for females, 1 for males)\n",
    "* **MINORITY**: minority variable (0 for non-minorities, 1 for minorities)\n",
    "* **JOBCAT**: - job category (1 for administrative jobs, 2 for custodial jobs, 3 for management jobs)\n",
    "\n",
    "\n",
    "The task is to look at three questions and get useful information from the data set. The questions in this case are:\n",
    "\n",
    "##### **Questions**: \n",
    "    - Do men earn more than women just because they are men?\n",
    "    - Is the starting salary of a college graduate higher on average than that of a high school graduate?\n",
    "    - Is there a significant correlation between starting salary and current salary?"
   ]
  },
  {
   "cell_type": "markdown",
   "id": "afraid-wright",
   "metadata": {},
   "source": [
    "### The EDA"
   ]
  },
  {
   "cell_type": "markdown",
   "id": "amended-fellowship",
   "metadata": {},
   "source": [
    "In order to get a first overview of the data, we first import pandas and other helpful libraries, in order to be able to import the data afterwards."
   ]
  },
  {
   "cell_type": "code",
   "execution_count": 1,
   "id": "friendly-tunisia",
   "metadata": {},
   "outputs": [
    {
     "data": {
      "text/html": [
       "<div>\n",
       "<style scoped>\n",
       "    .dataframe tbody tr th:only-of-type {\n",
       "        vertical-align: middle;\n",
       "    }\n",
       "\n",
       "    .dataframe tbody tr th {\n",
       "        vertical-align: top;\n",
       "    }\n",
       "\n",
       "    .dataframe thead th {\n",
       "        text-align: right;\n",
       "    }\n",
       "</style>\n",
       "<table border=\"1\" class=\"dataframe\">\n",
       "  <thead>\n",
       "    <tr style=\"text-align: right;\">\n",
       "      <th></th>\n",
       "      <th>Unnamed: 0</th>\n",
       "      <th>SALARY</th>\n",
       "      <th>EDUC</th>\n",
       "      <th>SALBEGIN</th>\n",
       "      <th>GENDER</th>\n",
       "      <th>MINORITY</th>\n",
       "      <th>JOBCAT</th>\n",
       "    </tr>\n",
       "  </thead>\n",
       "  <tbody>\n",
       "    <tr>\n",
       "      <th>0</th>\n",
       "      <td>0</td>\n",
       "      <td>57000</td>\n",
       "      <td>15</td>\n",
       "      <td>27000</td>\n",
       "      <td>1</td>\n",
       "      <td>0</td>\n",
       "      <td>3</td>\n",
       "    </tr>\n",
       "    <tr>\n",
       "      <th>1</th>\n",
       "      <td>1</td>\n",
       "      <td>40200</td>\n",
       "      <td>16</td>\n",
       "      <td>18750</td>\n",
       "      <td>1</td>\n",
       "      <td>0</td>\n",
       "      <td>1</td>\n",
       "    </tr>\n",
       "    <tr>\n",
       "      <th>2</th>\n",
       "      <td>2</td>\n",
       "      <td>21450</td>\n",
       "      <td>12</td>\n",
       "      <td>12000</td>\n",
       "      <td>0</td>\n",
       "      <td>0</td>\n",
       "      <td>1</td>\n",
       "    </tr>\n",
       "  </tbody>\n",
       "</table>\n",
       "</div>"
      ],
      "text/plain": [
       "   Unnamed: 0  SALARY  EDUC  SALBEGIN  GENDER  MINORITY  JOBCAT\n",
       "0           0   57000    15     27000       1         0       3\n",
       "1           1   40200    16     18750       1         0       1\n",
       "2           2   21450    12     12000       0         0       1"
      ]
     },
     "execution_count": 1,
     "metadata": {},
     "output_type": "execute_result"
    }
   ],
   "source": [
    "# Import libraries & read .txt-file containing the data\n",
    "import pandas as pd\n",
    "import numpy as np\n",
    "import seaborn as sns\n",
    "import matplotlib.pyplot as plt\n",
    "df = pd.read_csv('us_bank_wages/us_bank_wages.txt', delimiter=\"\\t\")\n",
    "df.head(3)"
   ]
  },
  {
   "cell_type": "markdown",
   "id": "thirty-explorer",
   "metadata": {},
   "source": [
    "When importing the .txt file, unfortunately an additional index column has been transferred. We remove this before we take a closer look at the data."
   ]
  },
  {
   "cell_type": "code",
   "execution_count": 2,
   "id": "mounted-diesel",
   "metadata": {},
   "outputs": [
    {
     "data": {
      "text/html": [
       "<div>\n",
       "<style scoped>\n",
       "    .dataframe tbody tr th:only-of-type {\n",
       "        vertical-align: middle;\n",
       "    }\n",
       "\n",
       "    .dataframe tbody tr th {\n",
       "        vertical-align: top;\n",
       "    }\n",
       "\n",
       "    .dataframe thead th {\n",
       "        text-align: right;\n",
       "    }\n",
       "</style>\n",
       "<table border=\"1\" class=\"dataframe\">\n",
       "  <thead>\n",
       "    <tr style=\"text-align: right;\">\n",
       "      <th></th>\n",
       "      <th>SALARY</th>\n",
       "      <th>EDUC</th>\n",
       "      <th>SALBEGIN</th>\n",
       "      <th>GENDER</th>\n",
       "      <th>MINORITY</th>\n",
       "      <th>JOBCAT</th>\n",
       "    </tr>\n",
       "  </thead>\n",
       "  <tbody>\n",
       "    <tr>\n",
       "      <th>0</th>\n",
       "      <td>57000</td>\n",
       "      <td>15</td>\n",
       "      <td>27000</td>\n",
       "      <td>1</td>\n",
       "      <td>0</td>\n",
       "      <td>3</td>\n",
       "    </tr>\n",
       "    <tr>\n",
       "      <th>1</th>\n",
       "      <td>40200</td>\n",
       "      <td>16</td>\n",
       "      <td>18750</td>\n",
       "      <td>1</td>\n",
       "      <td>0</td>\n",
       "      <td>1</td>\n",
       "    </tr>\n",
       "    <tr>\n",
       "      <th>2</th>\n",
       "      <td>21450</td>\n",
       "      <td>12</td>\n",
       "      <td>12000</td>\n",
       "      <td>0</td>\n",
       "      <td>0</td>\n",
       "      <td>1</td>\n",
       "    </tr>\n",
       "  </tbody>\n",
       "</table>\n",
       "</div>"
      ],
      "text/plain": [
       "   SALARY  EDUC  SALBEGIN  GENDER  MINORITY  JOBCAT\n",
       "0   57000    15     27000       1         0       3\n",
       "1   40200    16     18750       1         0       1\n",
       "2   21450    12     12000       0         0       1"
      ]
     },
     "execution_count": 2,
     "metadata": {},
     "output_type": "execute_result"
    }
   ],
   "source": [
    "#Remove .txt-File index-column\n",
    "df.drop('Unnamed: 0', axis = 1, inplace = True)\n",
    "df.head(3)"
   ]
  },
  {
   "cell_type": "markdown",
   "id": "exceptional-locator",
   "metadata": {},
   "source": [
    "To get a numerical overview of the data set, we first display the shape, info, describe and count the different values per column."
   ]
  },
  {
   "cell_type": "code",
   "execution_count": 3,
   "id": "gross-slope",
   "metadata": {},
   "outputs": [
    {
     "data": {
      "text/plain": [
       "(474, 6)"
      ]
     },
     "execution_count": 3,
     "metadata": {},
     "output_type": "execute_result"
    }
   ],
   "source": [
    "df.shape #return us the number of rows and columns"
   ]
  },
  {
   "cell_type": "code",
   "execution_count": 4,
   "id": "established-compilation",
   "metadata": {},
   "outputs": [
    {
     "data": {
      "text/plain": [
       "Index(['SALARY', 'EDUC', 'SALBEGIN', 'GENDER', 'MINORITY', 'JOBCAT'], dtype='object')"
      ]
     },
     "execution_count": 4,
     "metadata": {},
     "output_type": "execute_result"
    }
   ],
   "source": [
    "df.columns #gives us back a list of all of the column names"
   ]
  },
  {
   "cell_type": "code",
   "execution_count": 5,
   "id": "graduate-provincial",
   "metadata": {},
   "outputs": [
    {
     "name": "stdout",
     "output_type": "stream",
     "text": [
      "<class 'pandas.core.frame.DataFrame'>\n",
      "RangeIndex: 474 entries, 0 to 473\n",
      "Data columns (total 6 columns):\n",
      " #   Column    Non-Null Count  Dtype\n",
      "---  ------    --------------  -----\n",
      " 0   SALARY    474 non-null    int64\n",
      " 1   EDUC      474 non-null    int64\n",
      " 2   SALBEGIN  474 non-null    int64\n",
      " 3   GENDER    474 non-null    int64\n",
      " 4   MINORITY  474 non-null    int64\n",
      " 5   JOBCAT    474 non-null    int64\n",
      "dtypes: int64(6)\n",
      "memory usage: 22.3 KB\n"
     ]
    }
   ],
   "source": [
    "df.info() #have a look which data types were connected to the columns"
   ]
  },
  {
   "cell_type": "code",
   "execution_count": 6,
   "id": "comprehensive-excerpt",
   "metadata": {},
   "outputs": [
    {
     "data": {
      "text/html": [
       "<div>\n",
       "<style scoped>\n",
       "    .dataframe tbody tr th:only-of-type {\n",
       "        vertical-align: middle;\n",
       "    }\n",
       "\n",
       "    .dataframe tbody tr th {\n",
       "        vertical-align: top;\n",
       "    }\n",
       "\n",
       "    .dataframe thead th {\n",
       "        text-align: right;\n",
       "    }\n",
       "</style>\n",
       "<table border=\"1\" class=\"dataframe\">\n",
       "  <thead>\n",
       "    <tr style=\"text-align: right;\">\n",
       "      <th></th>\n",
       "      <th>SALARY</th>\n",
       "      <th>EDUC</th>\n",
       "      <th>SALBEGIN</th>\n",
       "      <th>GENDER</th>\n",
       "      <th>MINORITY</th>\n",
       "      <th>JOBCAT</th>\n",
       "    </tr>\n",
       "  </thead>\n",
       "  <tbody>\n",
       "    <tr>\n",
       "      <th>count</th>\n",
       "      <td>474.000000</td>\n",
       "      <td>474.000000</td>\n",
       "      <td>474.000000</td>\n",
       "      <td>474.000000</td>\n",
       "      <td>474.000000</td>\n",
       "      <td>474.000000</td>\n",
       "    </tr>\n",
       "    <tr>\n",
       "      <th>mean</th>\n",
       "      <td>34419.567511</td>\n",
       "      <td>13.491561</td>\n",
       "      <td>17016.086498</td>\n",
       "      <td>0.544304</td>\n",
       "      <td>0.219409</td>\n",
       "      <td>1.411392</td>\n",
       "    </tr>\n",
       "    <tr>\n",
       "      <th>std</th>\n",
       "      <td>17075.661465</td>\n",
       "      <td>2.884846</td>\n",
       "      <td>7870.638154</td>\n",
       "      <td>0.498559</td>\n",
       "      <td>0.414284</td>\n",
       "      <td>0.773201</td>\n",
       "    </tr>\n",
       "    <tr>\n",
       "      <th>min</th>\n",
       "      <td>15750.000000</td>\n",
       "      <td>8.000000</td>\n",
       "      <td>9000.000000</td>\n",
       "      <td>0.000000</td>\n",
       "      <td>0.000000</td>\n",
       "      <td>1.000000</td>\n",
       "    </tr>\n",
       "    <tr>\n",
       "      <th>25%</th>\n",
       "      <td>24000.000000</td>\n",
       "      <td>12.000000</td>\n",
       "      <td>12487.500000</td>\n",
       "      <td>0.000000</td>\n",
       "      <td>0.000000</td>\n",
       "      <td>1.000000</td>\n",
       "    </tr>\n",
       "    <tr>\n",
       "      <th>50%</th>\n",
       "      <td>28875.000000</td>\n",
       "      <td>12.000000</td>\n",
       "      <td>15000.000000</td>\n",
       "      <td>1.000000</td>\n",
       "      <td>0.000000</td>\n",
       "      <td>1.000000</td>\n",
       "    </tr>\n",
       "    <tr>\n",
       "      <th>75%</th>\n",
       "      <td>36937.500000</td>\n",
       "      <td>15.000000</td>\n",
       "      <td>17490.000000</td>\n",
       "      <td>1.000000</td>\n",
       "      <td>0.000000</td>\n",
       "      <td>1.000000</td>\n",
       "    </tr>\n",
       "    <tr>\n",
       "      <th>max</th>\n",
       "      <td>135000.000000</td>\n",
       "      <td>21.000000</td>\n",
       "      <td>79980.000000</td>\n",
       "      <td>1.000000</td>\n",
       "      <td>1.000000</td>\n",
       "      <td>3.000000</td>\n",
       "    </tr>\n",
       "  </tbody>\n",
       "</table>\n",
       "</div>"
      ],
      "text/plain": [
       "              SALARY        EDUC      SALBEGIN      GENDER    MINORITY  \\\n",
       "count     474.000000  474.000000    474.000000  474.000000  474.000000   \n",
       "mean    34419.567511   13.491561  17016.086498    0.544304    0.219409   \n",
       "std     17075.661465    2.884846   7870.638154    0.498559    0.414284   \n",
       "min     15750.000000    8.000000   9000.000000    0.000000    0.000000   \n",
       "25%     24000.000000   12.000000  12487.500000    0.000000    0.000000   \n",
       "50%     28875.000000   12.000000  15000.000000    1.000000    0.000000   \n",
       "75%     36937.500000   15.000000  17490.000000    1.000000    0.000000   \n",
       "max    135000.000000   21.000000  79980.000000    1.000000    1.000000   \n",
       "\n",
       "           JOBCAT  \n",
       "count  474.000000  \n",
       "mean     1.411392  \n",
       "std      0.773201  \n",
       "min      1.000000  \n",
       "25%      1.000000  \n",
       "50%      1.000000  \n",
       "75%      1.000000  \n",
       "max      3.000000  "
      ]
     },
     "execution_count": 6,
     "metadata": {},
     "output_type": "execute_result"
    }
   ],
   "source": [
    "df.describe() #returns a summary of statistics"
   ]
  },
  {
   "cell_type": "code",
   "execution_count": 7,
   "id": "cathedral-marsh",
   "metadata": {},
   "outputs": [
    {
     "data": {
      "text/plain": [
       "SALARY      221\n",
       "EDUC         10\n",
       "SALBEGIN     90\n",
       "GENDER        2\n",
       "MINORITY      2\n",
       "JOBCAT        3\n",
       "dtype: int64"
      ]
     },
     "execution_count": 7,
     "metadata": {},
     "output_type": "execute_result"
    }
   ],
   "source": [
    "df.nunique() #count of different values in each column"
   ]
  },
  {
   "cell_type": "markdown",
   "id": "qualified-collapse",
   "metadata": {},
   "source": [
    "After looking at the output information, it can be seen that all columns are of the integer type. If we look at the descriptive data, we can assume that the columns `EDUC`, `JOBCAT`, `GENDER` and `MINORITY` each contain categorical values. In order to test this theory more closely, we have the values of the entire data set output in a pair plot."
   ]
  },
  {
   "cell_type": "code",
   "execution_count": 8,
   "id": "killing-being",
   "metadata": {},
   "outputs": [
    {
     "data": {
      "image/png": "[encoded data removed]",
      "text/plain": [
       "<Figure size 1080x1080 with 42 Axes>"
      ]
     },
     "metadata": {
      "needs_background": "light"
     },
     "output_type": "display_data"
    }
   ],
   "source": [
    "ax = sns.pairplot(df)"
   ]
  },
  {
   "cell_type": "markdown",
   "id": "modified-productivity",
   "metadata": {},
   "source": [
    "Our thesis can be confirmed by looking at the pairplot. The values of the columns `EDUC`, `JOBCAT`, `GENDER` and `MINORITY` are categorical variables."
   ]
  },
  {
   "cell_type": "markdown",
   "id": "personal-graph",
   "metadata": {},
   "source": [
    "### Question 1: Do men earn more than women just because they are men?"
   ]
  },
  {
   "cell_type": "markdown",
   "id": "nearby-milan",
   "metadata": {},
   "source": [
    "But now back to our assumptions. Let's start with the first of the three. Do men earn more than women just because they are men?\n",
    "In order to gain insight into this question, it is useful to first output the means as well as medians of both groups and to present a boxplot of men's and women's incomes, as this gives a simple overview of the main study parameters. "
   ]
  },
  {
   "cell_type": "code",
   "execution_count": 9,
   "id": "limited-treasurer",
   "metadata": {},
   "outputs": [
    {
     "data": {
      "text/plain": [
       "GENDER\n",
       "0    26031.921296\n",
       "1    41441.782946\n",
       "Name: SALARY, dtype: float64"
      ]
     },
     "execution_count": 9,
     "metadata": {},
     "output_type": "execute_result"
    }
   ],
   "source": [
    "g = df.groupby('GENDER').mean() #Mean value of the salary for each expression of the column\n",
    "g['SALARY']"
   ]
  },
  {
   "cell_type": "code",
   "execution_count": 10,
   "id": "facial-japan",
   "metadata": {},
   "outputs": [
    {
     "data": {
      "text/plain": [
       "GENDER\n",
       "0    24300\n",
       "1    32850\n",
       "Name: SALARY, dtype: int64"
      ]
     },
     "execution_count": 10,
     "metadata": {},
     "output_type": "execute_result"
    }
   ],
   "source": [
    "g = df.groupby('GENDER').median() #Median of the salary for each expression of the column\n",
    "g['SALARY']"
   ]
  },
  {
   "cell_type": "code",
   "execution_count": 11,
   "id": "controlled-evening",
   "metadata": {},
   "outputs": [
    {
     "data": {
      "text/plain": [
       "Text(0.5, 1.0, 'Salary comparison female vs male')"
      ]
     },
     "execution_count": 11,
     "metadata": {},
     "output_type": "execute_result"
    },
    {
     "data": {
      "image/png": "[encoded data removed]",
      "text/plain": [
       "<Figure size 432x288 with 1 Axes>"
      ]
     },
     "metadata": {
      "needs_background": "light"
     },
     "output_type": "display_data"
    }
   ],
   "source": [
    "ax = sns.boxplot(x=\"GENDER\", y=\"SALARY\", data=df)\n",
    "plt.xticks([0, 1], ['Female', 'Male'])\n",
    "ax.set_title('Salary comparison female vs male')"
   ]
  },
  {
   "cell_type": "markdown",
   "id": "premier-guest",
   "metadata": {},
   "source": [
    "At first look, the question seems to be unambiguously answered, but it must be taken into account that the original assumption cannot be tested in this way. In order to do so, it is advisable to keep the other variables constant. We do this in the following way: There is no question that salary and gender are compared. In order to be able to keep the other variables constant, we examine the job category that comprises the largest sample and only examine the group of no-minorites. The final comparison is then made between the two genders at the same education level."
   ]
  },
  {
   "cell_type": "markdown",
   "id": "tutorial-panic",
   "metadata": {},
   "source": [
    "The first step in this task is to filter the data set according to the corresponding specifications. To do this, I checked the number of values for each property. `JOBCAT` = 1 (i.e., administrative jobs) and `MINORITY` = 0 (i.e., no minority) each had the highest values, so we decided on this filter. This way, the sample size can be kept as large as possible. We then check the sample sizes of the individual expressions in the education column."
   ]
  },
  {
   "cell_type": "code",
   "execution_count": 12,
   "id": "offshore-resolution",
   "metadata": {},
   "outputs": [
    {
     "data": {
      "text/plain": [
       "12    131\n",
       "15     86\n",
       "8      33\n",
       "16     18\n",
       "14      5\n",
       "17      1\n",
       "18      1\n",
       "19      1\n",
       "Name: EDUC, dtype: int64"
      ]
     },
     "execution_count": 12,
     "metadata": {},
     "output_type": "execute_result"
    }
   ],
   "source": [
    "df_1 = df[(df['JOBCAT'] == 1) & (df['MINORITY'] == 0)] #filtering the required data\n",
    "df_1.EDUC.value_counts()"
   ]
  },
  {
   "cell_type": "markdown",
   "id": "general-regulation",
   "metadata": {},
   "source": [
    "In order to achieve meaningful results, we focus in the following only on the four education levels, which contain the remaining large amount of data. the graphical representation is again done with the help of the boxplot, but in this case we use the possibility of subplots to get a better overview of the different characteristics."
   ]
  },
  {
   "cell_type": "code",
   "execution_count": 13,
   "id": "polyphonic-complaint",
   "metadata": {},
   "outputs": [
    {
     "data": {
      "text/plain": [
       "[Text(0, 0, 'Female'), Text(1, 0, 'Male')]"
      ]
     },
     "execution_count": 13,
     "metadata": {},
     "output_type": "execute_result"
    },
    {
     "data": {
      "image/png": "[encoded data removed]",
      "text/plain": [
       "<Figure size 864x864 with 4 Axes>"
      ]
     },
     "metadata": {
      "needs_background": "light"
     },
     "output_type": "display_data"
    }
   ],
   "source": [
    "df_1_1 = df_1[['SALARY', 'EDUC', 'GENDER']].set_index('EDUC') \n",
    "\n",
    "edu_8 = df_1_1.loc[8]\n",
    "edu_12 = df_1_1.loc[12]\n",
    "edu_15 = df_1_1.loc[15]\n",
    "edu_16 = df_1_1.loc[16]\n",
    "\n",
    "fig, axes = plt.subplots(2, 2, figsize=(12, 12))\n",
    "\n",
    "fig.suptitle('Comparisation Salary by Education Level between Gender')\n",
    "\n",
    "sns.boxplot(ax=axes[0,0], data=edu_8, x='GENDER', y='SALARY')\n",
    "sns.boxplot(ax=axes[0,1], data=edu_12, x='GENDER', y='SALARY')\n",
    "sns.boxplot(ax=axes[1,0], data=edu_15, x='GENDER', y='SALARY')\n",
    "sns.boxplot(ax=axes[1,1], data=edu_16, x='GENDER', y='SALARY')\n",
    "\n",
    "axes[0,0].set_title('Education Level 8')\n",
    "axes[0,1].set_title('Education Level 12')\n",
    "axes[1,0].set_title('Education Level 15')\n",
    "axes[1,1].set_title('Education Level 16')\n",
    "\n",
    "axes[0,0].set_xticklabels(labels = ['Female','Male'])\n",
    "axes[0,1].set_xticklabels(labels = ['Female','Male'])\n",
    "axes[1,0].set_xticklabels(labels = ['Female','Male'])\n",
    "axes[1,1].set_xticklabels(labels = ['Female','Male'])"
   ]
  },
  {
   "cell_type": "markdown",
   "id": "unable-basketball",
   "metadata": {},
   "source": [
    "After examining this representation, it can be seen that men earn a higher average income than women across all education levels - at least in the case of job category 1 and in the non-minority group. A general answer to the question of whether men earn more money than women simply because they are men cannot be given, as the attempt to keep the variables constant had a negative impact on the sample size and thus also on representativeness.\n"
   ]
  },
  {
   "cell_type": "markdown",
   "id": "numeric-collaboration",
   "metadata": {},
   "source": [
    "### Question 2: Is the starting salary of a college graduate higher on average than that of a high school graduate?"
   ]
  },
  {
   "cell_type": "markdown",
   "id": "spectacular-provider",
   "metadata": {},
   "source": [
    "So how can we determine that a college graduate can expect a higher starting salary on average than a high school graduate? To do this, it is important to read the data in such a way that a statement can be made about this. The `EDUC` column indicates the number of years in which the test person has received education. Depending on the type of degree, a college graduate can be expected to have an education level of 15-16, while a high school graduate can be expected to have an education level of 12."
   ]
  },
  {
   "cell_type": "markdown",
   "id": "recent-assumption",
   "metadata": {},
   "source": [
    "With the help of this information we can start filtering the required data. For this we create two series, one containing all college graduates and a second one containing all high school graduates."
   ]
  },
  {
   "cell_type": "code",
   "execution_count": 14,
   "id": "smaller-ultimate",
   "metadata": {},
   "outputs": [
    {
     "data": {
      "text/html": [
       "<div>\n",
       "<style scoped>\n",
       "    .dataframe tbody tr th:only-of-type {\n",
       "        vertical-align: middle;\n",
       "    }\n",
       "\n",
       "    .dataframe tbody tr th {\n",
       "        vertical-align: top;\n",
       "    }\n",
       "\n",
       "    .dataframe thead th {\n",
       "        text-align: right;\n",
       "    }\n",
       "</style>\n",
       "<table border=\"1\" class=\"dataframe\">\n",
       "  <thead>\n",
       "    <tr style=\"text-align: right;\">\n",
       "      <th></th>\n",
       "      <th>SALARY</th>\n",
       "      <th>EDUC</th>\n",
       "      <th>SALBEGIN</th>\n",
       "      <th>GENDER</th>\n",
       "      <th>MINORITY</th>\n",
       "      <th>JOBCAT</th>\n",
       "    </tr>\n",
       "  </thead>\n",
       "  <tbody>\n",
       "    <tr>\n",
       "      <th>count</th>\n",
       "      <td>365.000000</td>\n",
       "      <td>365.000000</td>\n",
       "      <td>365.000000</td>\n",
       "      <td>365.000000</td>\n",
       "      <td>365.000000</td>\n",
       "      <td>365.000000</td>\n",
       "    </tr>\n",
       "    <tr>\n",
       "      <th>mean</th>\n",
       "      <td>31340.684932</td>\n",
       "      <td>13.600000</td>\n",
       "      <td>15465.082192</td>\n",
       "      <td>0.493151</td>\n",
       "      <td>0.230137</td>\n",
       "      <td>1.257534</td>\n",
       "    </tr>\n",
       "    <tr>\n",
       "      <th>std</th>\n",
       "      <td>12187.485940</td>\n",
       "      <td>1.701325</td>\n",
       "      <td>5406.470456</td>\n",
       "      <td>0.500639</td>\n",
       "      <td>0.421498</td>\n",
       "      <td>0.641495</td>\n",
       "    </tr>\n",
       "    <tr>\n",
       "      <th>min</th>\n",
       "      <td>16200.000000</td>\n",
       "      <td>12.000000</td>\n",
       "      <td>9000.000000</td>\n",
       "      <td>0.000000</td>\n",
       "      <td>0.000000</td>\n",
       "      <td>1.000000</td>\n",
       "    </tr>\n",
       "    <tr>\n",
       "      <th>25%</th>\n",
       "      <td>24000.000000</td>\n",
       "      <td>12.000000</td>\n",
       "      <td>12450.000000</td>\n",
       "      <td>0.000000</td>\n",
       "      <td>0.000000</td>\n",
       "      <td>1.000000</td>\n",
       "    </tr>\n",
       "    <tr>\n",
       "      <th>50%</th>\n",
       "      <td>27900.000000</td>\n",
       "      <td>12.000000</td>\n",
       "      <td>15000.000000</td>\n",
       "      <td>0.000000</td>\n",
       "      <td>0.000000</td>\n",
       "      <td>1.000000</td>\n",
       "    </tr>\n",
       "    <tr>\n",
       "      <th>75%</th>\n",
       "      <td>34500.000000</td>\n",
       "      <td>15.000000</td>\n",
       "      <td>16500.000000</td>\n",
       "      <td>1.000000</td>\n",
       "      <td>0.000000</td>\n",
       "      <td>1.000000</td>\n",
       "    </tr>\n",
       "    <tr>\n",
       "      <th>max</th>\n",
       "      <td>103750.000000</td>\n",
       "      <td>16.000000</td>\n",
       "      <td>60000.000000</td>\n",
       "      <td>1.000000</td>\n",
       "      <td>1.000000</td>\n",
       "      <td>3.000000</td>\n",
       "    </tr>\n",
       "  </tbody>\n",
       "</table>\n",
       "</div>"
      ],
      "text/plain": [
       "              SALARY        EDUC      SALBEGIN      GENDER    MINORITY  \\\n",
       "count     365.000000  365.000000    365.000000  365.000000  365.000000   \n",
       "mean    31340.684932   13.600000  15465.082192    0.493151    0.230137   \n",
       "std     12187.485940    1.701325   5406.470456    0.500639    0.421498   \n",
       "min     16200.000000   12.000000   9000.000000    0.000000    0.000000   \n",
       "25%     24000.000000   12.000000  12450.000000    0.000000    0.000000   \n",
       "50%     27900.000000   12.000000  15000.000000    0.000000    0.000000   \n",
       "75%     34500.000000   15.000000  16500.000000    1.000000    0.000000   \n",
       "max    103750.000000   16.000000  60000.000000    1.000000    1.000000   \n",
       "\n",
       "           JOBCAT  \n",
       "count  365.000000  \n",
       "mean     1.257534  \n",
       "std      0.641495  \n",
       "min      1.000000  \n",
       "25%      1.000000  \n",
       "50%      1.000000  \n",
       "75%      1.000000  \n",
       "max      3.000000  "
      ]
     },
     "execution_count": 14,
     "metadata": {},
     "output_type": "execute_result"
    }
   ],
   "source": [
    "df_grad = df[(df['EDUC'] == 15) | (df['EDUC'] == 16) | (df['EDUC'] == 12)] #filtering the required data\n",
    "df_grad.describe()\n"
   ]
  },
  {
   "cell_type": "markdown",
   "id": "successful-timeline",
   "metadata": {},
   "source": [
    "Now let's get an overview of the numbers. Now let's get an overview of the numbers. In this case, the easiest way to do this is to use a boxplot."
   ]
  },
  {
   "cell_type": "code",
   "execution_count": 15,
   "id": "fixed-salvation",
   "metadata": {},
   "outputs": [
    {
     "data": {
      "text/plain": [
       "Text(0.5, 1.0, 'Comparison of starting salaries among high school, junior college, and senior college graduates')"
      ]
     },
     "execution_count": 15,
     "metadata": {},
     "output_type": "execute_result"
    },
    {
     "data": {
      "image/png": "[encoded data removed]",
      "text/plain": [
       "<Figure size 432x288 with 1 Axes>"
      ]
     },
     "metadata": {
      "needs_background": "light"
     },
     "output_type": "display_data"
    }
   ],
   "source": [
    "ax = sns.boxplot(x=\"EDUC\", y=\"SALBEGIN\", data=df_grad, palette=\"Set3\", width = 0.7)\n",
    "plt.xticks([0, 1, 2], ['High School', 'Junior College', 'Senior College'])\n",
    "ax.set_title('Comparison of starting salaries among high school, junior college, and senior college graduates')\n"
   ]
  },
  {
   "cell_type": "markdown",
   "id": "charming-infrastructure",
   "metadata": {},
   "source": [
    "Now that it has become relatively clear with the help of the boxplot that the entry-level salary increases with a higher education level, let's take a look at whether such a distribution also applies to the salary.\n"
   ]
  },
  {
   "cell_type": "code",
   "execution_count": 16,
   "id": "growing-stereo",
   "metadata": {},
   "outputs": [
    {
     "data": {
      "text/plain": [
       "Text(0.5, 1.0, 'Comparison of Salary among high school, junior college, and senior college graduates')"
      ]
     },
     "execution_count": 16,
     "metadata": {},
     "output_type": "execute_result"
    },
    {
     "data": {
      "image/png": "[encoded data removed]",
      "text/plain": [
       "<Figure size 432x288 with 1 Axes>"
      ]
     },
     "metadata": {
      "needs_background": "light"
     },
     "output_type": "display_data"
    }
   ],
   "source": [
    "ax = sns.boxplot(x=\"EDUC\", y=\"SALARY\", data=df_grad, palette=\"Set3\", width = 0.7)\n",
    "plt.xticks([0, 1, 2], ['High School', 'Junior College', 'Senior College'])\n",
    "ax.set_title('Comparison of Salary among high school, junior college, and senior college graduates')"
   ]
  },
  {
   "cell_type": "markdown",
   "id": "pediatric-surrey",
   "metadata": {},
   "source": [
    "We can see a similar picture as in the comparison of starting salaries. this leads to the assumption whether salary and starting salary are dependent on each other. Therefore, we first plot a scatter diagram, which should provide information about a possible correlation between salary and starting salary."
   ]
  },
  {
   "cell_type": "code",
   "execution_count": 17,
   "id": "super-asthma",
   "metadata": {},
   "outputs": [
    {
     "data": {
      "text/plain": [
       "Text(0.5, 1.0, 'Scatterplot Salary vs. Starting Salary between Education level')"
      ]
     },
     "execution_count": 17,
     "metadata": {},
     "output_type": "execute_result"
    },
    {
     "data": {
      "image/png": "[encoded data removed]",
      "text/plain": [
       "<Figure size 432x288 with 1 Axes>"
      ]
     },
     "metadata": {
      "needs_background": "light"
     },
     "output_type": "display_data"
    }
   ],
   "source": [
    "ax = sns.scatterplot(data=df_grad, x=\"SALBEGIN\", y=\"SALARY\", hue=\"EDUC\")\n",
    "ax.set_title('Scatterplot Salary vs. Starting Salary between Education level')"
   ]
  },
  {
   "cell_type": "markdown",
   "id": "challenging-crossing",
   "metadata": {},
   "source": [
    "First of all, there is a clear clustering of high school graduates in the lower regions of salary and starting salary. In addition, there is a clear demarcation between senior college graduates and high school graduates. In the higher regions of salary and starting salary, there appears to be a greater mix of senior and junior graduates. However, what is also noticeable is that there is a dependency between salary and starting salary. This brings us to the third question."
   ]
  },
  {
   "cell_type": "markdown",
   "id": "blocked-owner",
   "metadata": {},
   "source": [
    "### Question 3: Is there a significant correlation between starting salary and current salary?"
   ]
  },
  {
   "cell_type": "markdown",
   "id": "demographic-enterprise",
   "metadata": {},
   "source": [
    "Based on the scatterplot from the pairplot at the beginning of this analysis, it can be assumed that there is a correlation between salary and starting salary. This must now be verified. Here we first look at the plot again."
   ]
  },
  {
   "cell_type": "code",
   "execution_count": 18,
   "id": "local-jackson",
   "metadata": {},
   "outputs": [
    {
     "data": {
      "text/plain": [
       "Text(0.5, 1.0, 'Scatterplot Salary vs. Starting Salary')"
      ]
     },
     "execution_count": 18,
     "metadata": {},
     "output_type": "execute_result"
    },
    {
     "data": {
      "image/png": "[encoded data removed]",
      "text/plain": [
       "<Figure size 432x288 with 1 Axes>"
      ]
     },
     "metadata": {
      "needs_background": "light"
     },
     "output_type": "display_data"
    }
   ],
   "source": [
    "ax = sns.scatterplot(data=df, x=\"SALBEGIN\", y=\"SALARY\")\n",
    "ax.set_title('Scatterplot Salary vs. Starting Salary')"
   ]
  },
  {
   "cell_type": "markdown",
   "id": "emotional-barbados",
   "metadata": {},
   "source": [
    "We perform the correlation check using linear regression. To do this, we first import statsmodel, select our target (`SALARY`),our feature (`SALBEGIN`) and add the constant."
   ]
  },
  {
   "cell_type": "code",
   "execution_count": 19,
   "id": "future-nancy",
   "metadata": {},
   "outputs": [],
   "source": [
    "import statsmodels.api as sms"
   ]
  },
  {
   "cell_type": "code",
   "execution_count": 20,
   "id": "incorrect-leonard",
   "metadata": {},
   "outputs": [],
   "source": [
    "X = df[['SALBEGIN']] #set feature\n",
    "y = df.SALARY #set target\n",
    "X = sms.add_constant(X) #add the constamnt"
   ]
  },
  {
   "cell_type": "markdown",
   "id": "acute-routine",
   "metadata": {},
   "source": [
    "Now we create our model, and use its data to determine our intercept and slope. with the summary we can return the output of the model"
   ]
  },
  {
   "cell_type": "code",
   "execution_count": 21,
   "id": "incident-olive",
   "metadata": {},
   "outputs": [
    {
     "data": {
      "text/html": [
       "<table class=\"simpletable\">\n",
       "<caption>OLS Regression Results</caption>\n",
       "<tr>\n",
       "  <th>Dep. Variable:</th>         <td>SALARY</td>      <th>  R-squared:         </th> <td>   0.775</td> \n",
       "</tr>\n",
       "<tr>\n",
       "  <th>Model:</th>                   <td>OLS</td>       <th>  Adj. R-squared:    </th> <td>   0.774</td> \n",
       "</tr>\n",
       "<tr>\n",
       "  <th>Method:</th>             <td>Least Squares</td>  <th>  F-statistic:       </th> <td>   1622.</td> \n",
       "</tr>\n",
       "<tr>\n",
       "  <th>Date:</th>             <td>Thu, 18 Feb 2021</td> <th>  Prob (F-statistic):</th> <td>8.20e-155</td>\n",
       "</tr>\n",
       "<tr>\n",
       "  <th>Time:</th>                 <td>07:44:50</td>     <th>  Log-Likelihood:    </th> <td> -4938.3</td> \n",
       "</tr>\n",
       "<tr>\n",
       "  <th>No. Observations:</th>      <td>   474</td>      <th>  AIC:               </th> <td>   9881.</td> \n",
       "</tr>\n",
       "<tr>\n",
       "  <th>Df Residuals:</th>          <td>   472</td>      <th>  BIC:               </th> <td>   9889.</td> \n",
       "</tr>\n",
       "<tr>\n",
       "  <th>Df Model:</th>              <td>     1</td>      <th>                     </th>     <td> </td>    \n",
       "</tr>\n",
       "<tr>\n",
       "  <th>Covariance Type:</th>      <td>nonrobust</td>    <th>                     </th>     <td> </td>    \n",
       "</tr>\n",
       "</table>\n",
       "<table class=\"simpletable\">\n",
       "<tr>\n",
       "      <td></td>        <th>coef</th>     <th>std err</th>      <th>t</th>      <th>P>|t|</th>  <th>[0.025</th>    <th>0.975]</th>  \n",
       "</tr>\n",
       "<tr>\n",
       "  <th>const</th>    <td> 1928.2058</td> <td>  888.680</td> <td>    2.170</td> <td> 0.031</td> <td>  181.947</td> <td> 3674.464</td>\n",
       "</tr>\n",
       "<tr>\n",
       "  <th>SALBEGIN</th> <td>    1.9094</td> <td>    0.047</td> <td>   40.276</td> <td> 0.000</td> <td>    1.816</td> <td>    2.003</td>\n",
       "</tr>\n",
       "</table>\n",
       "<table class=\"simpletable\">\n",
       "<tr>\n",
       "  <th>Omnibus:</th>       <td>199.258</td> <th>  Durbin-Watson:     </th> <td>   1.830</td>\n",
       "</tr>\n",
       "<tr>\n",
       "  <th>Prob(Omnibus):</th> <td> 0.000</td>  <th>  Jarque-Bera (JB):  </th> <td>1534.909</td>\n",
       "</tr>\n",
       "<tr>\n",
       "  <th>Skew:</th>          <td> 1.630</td>  <th>  Prob(JB):          </th> <td>    0.00</td>\n",
       "</tr>\n",
       "<tr>\n",
       "  <th>Kurtosis:</th>      <td>11.191</td>  <th>  Cond. No.          </th> <td>4.47e+04</td>\n",
       "</tr>\n",
       "</table><br/><br/>Notes:<br/>[1] Standard Errors assume that the covariance matrix of the errors is correctly specified.<br/>[2] The condition number is large, 4.47e+04. This might indicate that there are<br/>strong multicollinearity or other numerical problems."
      ],
      "text/plain": [
       "<class 'statsmodels.iolib.summary.Summary'>\n",
       "\"\"\"\n",
       "                            OLS Regression Results                            \n",
       "==============================================================================\n",
       "Dep. Variable:                 SALARY   R-squared:                       0.775\n",
       "Model:                            OLS   Adj. R-squared:                  0.774\n",
       "Method:                 Least Squares   F-statistic:                     1622.\n",
       "Date:                Thu, 18 Feb 2021   Prob (F-statistic):          8.20e-155\n",
       "Time:                        07:44:50   Log-Likelihood:                -4938.3\n",
       "No. Observations:                 474   AIC:                             9881.\n",
       "Df Residuals:                     472   BIC:                             9889.\n",
       "Df Model:                           1                                         \n",
       "Covariance Type:            nonrobust                                         \n",
       "==============================================================================\n",
       "                 coef    std err          t      P>|t|      [0.025      0.975]\n",
       "------------------------------------------------------------------------------\n",
       "const       1928.2058    888.680      2.170      0.031     181.947    3674.464\n",
       "SALBEGIN       1.9094      0.047     40.276      0.000       1.816       2.003\n",
       "==============================================================================\n",
       "Omnibus:                      199.258   Durbin-Watson:                   1.830\n",
       "Prob(Omnibus):                  0.000   Jarque-Bera (JB):             1534.909\n",
       "Skew:                           1.630   Prob(JB):                         0.00\n",
       "Kurtosis:                      11.191   Cond. No.                     4.47e+04\n",
       "==============================================================================\n",
       "\n",
       "Notes:\n",
       "[1] Standard Errors assume that the covariance matrix of the errors is correctly specified.\n",
       "[2] The condition number is large, 4.47e+04. This might indicate that there are\n",
       "strong multicollinearity or other numerical problems.\n",
       "\"\"\""
      ]
     },
     "execution_count": 21,
     "metadata": {},
     "output_type": "execute_result"
    }
   ],
   "source": [
    "model = sms.OLS(y, X) # Create an OLS model\n",
    "results = model.fit() # use the data to calculate the intercept and slope\n",
    "results.summary() # return the output of the model"
   ]
  },
  {
   "cell_type": "markdown",
   "id": "present-magnet",
   "metadata": {},
   "source": [
    "In the OLS regression results, it can be seen that there is indeed a correlation between salary and starting salary. This can be seen from the Adjusted R-squared value, which is close to 1."
   ]
  },
  {
   "cell_type": "code",
   "execution_count": 22,
   "id": "monthly-purchase",
   "metadata": {},
   "outputs": [],
   "source": [
    "intercept, slope = results.params"
   ]
  },
  {
   "cell_type": "code",
   "execution_count": 35,
   "id": "nuclear-comment",
   "metadata": {},
   "outputs": [
    {
     "data": {
      "image/png": "[encoded data removed]",
      "text/plain": [
       "<Figure size 576x288 with 1 Axes>"
      ]
     },
     "metadata": {
      "needs_background": "light"
     },
     "output_type": "display_data"
    }
   ],
   "source": [
    "fig, ax = plt.subplots(figsize=(8, 4)) #plotting the scatterplot with regression line\n",
    "x = df.SALBEGIN\n",
    "ax.scatter(x, y, alpha=0.3, color='black')\n",
    "fig.suptitle('Relationship between Salbegin and Salary')\n",
    "ax.plot(x, x*slope +intercept, '-', color='red', linewidth=1);\n",
    "ax.set_ylabel(\"Salary\");\n",
    "ax.set_xlabel(\"Salbegin\");"
   ]
  },
  {
   "cell_type": "markdown",
   "id": "invalid-collector",
   "metadata": {},
   "source": [
    "### Multivariate linear regression"
   ]
  },
  {
   "cell_type": "markdown",
   "id": "considered-mobility",
   "metadata": {},
   "source": [
    "After we have already performed a linear regression within the EDA, we now turn to multivariate regression.\n",
    "Again, the salary is our target, the prediction of which has to be optimized."
   ]
  },
  {
   "cell_type": "markdown",
   "id": "proved-screen",
   "metadata": {},
   "source": [
    "To prepare for Multivariate Regression, we first create dummy variables for each of our categorical variables (`EDUC`, `GENDER`, `MINORITY` & `JOBCAT`)."
   ]
  },
  {
   "cell_type": "code",
   "execution_count": 24,
   "id": "actual-worse",
   "metadata": {},
   "outputs": [],
   "source": [
    "educ_dummies = pd.get_dummies(df['EDUC'], prefix='edu', drop_first=True) #create dummie-variables\n",
    "gender_dummies = pd.get_dummies(df['GENDER'], prefix='gd', drop_first=True)\n",
    "minority_dummies = pd.get_dummies(df['MINORITY'], prefix='mino', drop_first=True)\n",
    "jobcat_dummies = pd.get_dummies(df['JOBCAT'], prefix='jcat', drop_first=True)"
   ]
  },
  {
   "cell_type": "markdown",
   "id": "opened-smooth",
   "metadata": {},
   "source": [
    "In the next step, we first drop the associated origin columns of the corresponding variables."
   ]
  },
  {
   "cell_type": "code",
   "execution_count": 25,
   "id": "silent-spice",
   "metadata": {},
   "outputs": [
    {
     "data": {
      "text/html": [
       "<div>\n",
       "<style scoped>\n",
       "    .dataframe tbody tr th:only-of-type {\n",
       "        vertical-align: middle;\n",
       "    }\n",
       "\n",
       "    .dataframe tbody tr th {\n",
       "        vertical-align: top;\n",
       "    }\n",
       "\n",
       "    .dataframe thead th {\n",
       "        text-align: right;\n",
       "    }\n",
       "</style>\n",
       "<table border=\"1\" class=\"dataframe\">\n",
       "  <thead>\n",
       "    <tr style=\"text-align: right;\">\n",
       "      <th></th>\n",
       "      <th>SALARY</th>\n",
       "      <th>SALBEGIN</th>\n",
       "    </tr>\n",
       "  </thead>\n",
       "  <tbody>\n",
       "    <tr>\n",
       "      <th>0</th>\n",
       "      <td>57000</td>\n",
       "      <td>27000</td>\n",
       "    </tr>\n",
       "    <tr>\n",
       "      <th>1</th>\n",
       "      <td>40200</td>\n",
       "      <td>18750</td>\n",
       "    </tr>\n",
       "    <tr>\n",
       "      <th>2</th>\n",
       "      <td>21450</td>\n",
       "      <td>12000</td>\n",
       "    </tr>\n",
       "    <tr>\n",
       "      <th>3</th>\n",
       "      <td>21900</td>\n",
       "      <td>13200</td>\n",
       "    </tr>\n",
       "    <tr>\n",
       "      <th>4</th>\n",
       "      <td>45000</td>\n",
       "      <td>21000</td>\n",
       "    </tr>\n",
       "  </tbody>\n",
       "</table>\n",
       "</div>"
      ],
      "text/plain": [
       "   SALARY  SALBEGIN\n",
       "0   57000     27000\n",
       "1   40200     18750\n",
       "2   21450     12000\n",
       "3   21900     13200\n",
       "4   45000     21000"
      ]
     },
     "execution_count": 25,
     "metadata": {},
     "output_type": "execute_result"
    }
   ],
   "source": [
    "df = df.drop(['EDUC','GENDER','MINORITY','JOBCAT'], axis=1) #drop origin columns\n",
    "df.head()"
   ]
  },
  {
   "cell_type": "markdown",
   "id": "efficient-mortgage",
   "metadata": {},
   "source": [
    "Now we add the created dummy variables to the dataset."
   ]
  },
  {
   "cell_type": "code",
   "execution_count": 26,
   "id": "generic-information",
   "metadata": {},
   "outputs": [
    {
     "data": {
      "text/html": [
       "<div>\n",
       "<style scoped>\n",
       "    .dataframe tbody tr th:only-of-type {\n",
       "        vertical-align: middle;\n",
       "    }\n",
       "\n",
       "    .dataframe tbody tr th {\n",
       "        vertical-align: top;\n",
       "    }\n",
       "\n",
       "    .dataframe thead th {\n",
       "        text-align: right;\n",
       "    }\n",
       "</style>\n",
       "<table border=\"1\" class=\"dataframe\">\n",
       "  <thead>\n",
       "    <tr style=\"text-align: right;\">\n",
       "      <th></th>\n",
       "      <th>SALARY</th>\n",
       "      <th>SALBEGIN</th>\n",
       "      <th>edu_12</th>\n",
       "      <th>edu_14</th>\n",
       "      <th>edu_15</th>\n",
       "      <th>edu_16</th>\n",
       "      <th>edu_17</th>\n",
       "      <th>edu_18</th>\n",
       "      <th>edu_19</th>\n",
       "      <th>edu_20</th>\n",
       "      <th>edu_21</th>\n",
       "      <th>gd_1</th>\n",
       "      <th>mino_1</th>\n",
       "      <th>jcat_2</th>\n",
       "      <th>jcat_3</th>\n",
       "    </tr>\n",
       "  </thead>\n",
       "  <tbody>\n",
       "    <tr>\n",
       "      <th>0</th>\n",
       "      <td>57000</td>\n",
       "      <td>27000</td>\n",
       "      <td>0</td>\n",
       "      <td>0</td>\n",
       "      <td>1</td>\n",
       "      <td>0</td>\n",
       "      <td>0</td>\n",
       "      <td>0</td>\n",
       "      <td>0</td>\n",
       "      <td>0</td>\n",
       "      <td>0</td>\n",
       "      <td>1</td>\n",
       "      <td>0</td>\n",
       "      <td>0</td>\n",
       "      <td>1</td>\n",
       "    </tr>\n",
       "    <tr>\n",
       "      <th>1</th>\n",
       "      <td>40200</td>\n",
       "      <td>18750</td>\n",
       "      <td>0</td>\n",
       "      <td>0</td>\n",
       "      <td>0</td>\n",
       "      <td>1</td>\n",
       "      <td>0</td>\n",
       "      <td>0</td>\n",
       "      <td>0</td>\n",
       "      <td>0</td>\n",
       "      <td>0</td>\n",
       "      <td>1</td>\n",
       "      <td>0</td>\n",
       "      <td>0</td>\n",
       "      <td>0</td>\n",
       "    </tr>\n",
       "    <tr>\n",
       "      <th>2</th>\n",
       "      <td>21450</td>\n",
       "      <td>12000</td>\n",
       "      <td>1</td>\n",
       "      <td>0</td>\n",
       "      <td>0</td>\n",
       "      <td>0</td>\n",
       "      <td>0</td>\n",
       "      <td>0</td>\n",
       "      <td>0</td>\n",
       "      <td>0</td>\n",
       "      <td>0</td>\n",
       "      <td>0</td>\n",
       "      <td>0</td>\n",
       "      <td>0</td>\n",
       "      <td>0</td>\n",
       "    </tr>\n",
       "    <tr>\n",
       "      <th>3</th>\n",
       "      <td>21900</td>\n",
       "      <td>13200</td>\n",
       "      <td>0</td>\n",
       "      <td>0</td>\n",
       "      <td>0</td>\n",
       "      <td>0</td>\n",
       "      <td>0</td>\n",
       "      <td>0</td>\n",
       "      <td>0</td>\n",
       "      <td>0</td>\n",
       "      <td>0</td>\n",
       "      <td>0</td>\n",
       "      <td>0</td>\n",
       "      <td>0</td>\n",
       "      <td>0</td>\n",
       "    </tr>\n",
       "    <tr>\n",
       "      <th>4</th>\n",
       "      <td>45000</td>\n",
       "      <td>21000</td>\n",
       "      <td>0</td>\n",
       "      <td>0</td>\n",
       "      <td>1</td>\n",
       "      <td>0</td>\n",
       "      <td>0</td>\n",
       "      <td>0</td>\n",
       "      <td>0</td>\n",
       "      <td>0</td>\n",
       "      <td>0</td>\n",
       "      <td>1</td>\n",
       "      <td>0</td>\n",
       "      <td>0</td>\n",
       "      <td>0</td>\n",
       "    </tr>\n",
       "  </tbody>\n",
       "</table>\n",
       "</div>"
      ],
      "text/plain": [
       "   SALARY  SALBEGIN  edu_12  edu_14  edu_15  edu_16  edu_17  edu_18  edu_19  \\\n",
       "0   57000     27000       0       0       1       0       0       0       0   \n",
       "1   40200     18750       0       0       0       1       0       0       0   \n",
       "2   21450     12000       1       0       0       0       0       0       0   \n",
       "3   21900     13200       0       0       0       0       0       0       0   \n",
       "4   45000     21000       0       0       1       0       0       0       0   \n",
       "\n",
       "   edu_20  edu_21  gd_1  mino_1  jcat_2  jcat_3  \n",
       "0       0       0     1       0       0       1  \n",
       "1       0       0     1       0       0       0  \n",
       "2       0       0     0       0       0       0  \n",
       "3       0       0     0       0       0       0  \n",
       "4       0       0     1       0       0       0  "
      ]
     },
     "execution_count": 26,
     "metadata": {},
     "output_type": "execute_result"
    }
   ],
   "source": [
    "df = pd.concat([df, educ_dummies, gender_dummies, minority_dummies, jobcat_dummies], axis=1) #add created dummie variables\n",
    "df.head()"
   ]
  },
  {
   "cell_type": "markdown",
   "id": "blessed-imagination",
   "metadata": {},
   "source": [
    "After the dummy variables have been implemented in the data set, the multivariate linear regression can begin. To do this, we first read in all the features to be tested before splitting the dataset into a training and a test set. In addition, the summary of the regression is output and furthermore the RMSE for training and test data set is determined."
   ]
  },
  {
   "cell_type": "code",
   "execution_count": 27,
   "id": "grateful-adaptation",
   "metadata": {},
   "outputs": [
    {
     "name": "stdout",
     "output_type": "stream",
     "text": [
      "                            OLS Regression Results                            \n",
      "==============================================================================\n",
      "Dep. Variable:                 SALARY   R-squared:                       0.817\n",
      "Model:                            OLS   Adj. R-squared:                  0.816\n",
      "Method:                 Least Squares   F-statistic:                     837.3\n",
      "Date:                Thu, 18 Feb 2021   Prob (F-statistic):          3.17e-139\n",
      "Time:                        07:44:51   Log-Likelihood:                -3927.1\n",
      "No. Observations:                 379   AIC:                             7860.\n",
      "Df Residuals:                     376   BIC:                             7872.\n",
      "Df Model:                           2                                         \n",
      "Covariance Type:            nonrobust                                         \n",
      "==============================================================================\n",
      "                 coef    std err          t      P>|t|      [0.025      0.975]\n",
      "------------------------------------------------------------------------------\n",
      "const       7636.3683   1186.159      6.438      0.000    5304.033    9968.704\n",
      "SALBEGIN       1.4270      0.078     18.320      0.000       1.274       1.580\n",
      "jcat_3      1.374e+04   1611.940      8.524      0.000    1.06e+04    1.69e+04\n",
      "==============================================================================\n",
      "Omnibus:                      172.808   Durbin-Watson:                   2.034\n",
      "Prob(Omnibus):                  0.000   Jarque-Bera (JB):             1355.474\n",
      "Skew:                           1.744   Prob(JB):                    4.60e-295\n",
      "Kurtosis:                      11.583   Cond. No.                     8.82e+04\n",
      "==============================================================================\n",
      "\n",
      "Notes:\n",
      "[1] Standard Errors assume that the covariance matrix of the errors is correctly specified.\n",
      "[2] The condition number is large, 8.82e+04. This might indicate that there are\n",
      "strong multicollinearity or other numerical problems.\n",
      "-------------\n",
      "RMSE on train data: 7652.456950334068\n",
      "RMSE on test data: 6608.758105872375\n"
     ]
    }
   ],
   "source": [
    "from sklearn.model_selection import train_test_split\n",
    "from sklearn.metrics import mean_squared_error\n",
    "\n",
    "X = df[['SALBEGIN','jcat_3']] #feature engineering\n",
    "Y = df['SALARY']\n",
    "\n",
    "\n",
    "X_train, X_test, y_train, y_test = train_test_split(X, Y, test_size=0.2, random_state=42) #splitting the dataset\n",
    "\n",
    "\n",
    "X_train = sms.add_constant(X_train) #adding the constant\n",
    "X_test = sms.add_constant(X_test)\n",
    "\n",
    "model = sms.OLS(y_train, X_train).fit() #training the model\n",
    "print_model = model.summary()\n",
    "\n",
    "predictions = model.predict(X_train) #evaluating the model\n",
    "err_train = np.sqrt(mean_squared_error(y_train, predictions))\n",
    "predictions_test = model.predict(X_test)\n",
    "err_test = np.sqrt(mean_squared_error(y_test, predictions_test))\n",
    "\n",
    "print(print_model) #get the test size\n",
    "print (\"-------------\")\n",
    "print (f\"RMSE on train data: {err_train}\")\n",
    "print (f\"RMSE on test data: {err_test}\")"
   ]
  },
  {
   "cell_type": "markdown",
   "id": "mysterious-alabama",
   "metadata": {},
   "source": [
    "In this case, the interpretation is based on the RMSE value. The smaller the RMSE value, the better the model is able to predict the target."
   ]
  },
  {
   "cell_type": "markdown",
   "id": "christian-candy",
   "metadata": {},
   "source": [
    "In order not to fill this notebook unnecessarily, the tested optimal solution can be found here:"
   ]
  },
  {
   "cell_type": "code",
   "execution_count": 28,
   "id": "revolutionary-protocol",
   "metadata": {},
   "outputs": [
    {
     "name": "stdout",
     "output_type": "stream",
     "text": [
      "                            OLS Regression Results                            \n",
      "==============================================================================\n",
      "Dep. Variable:                 SALARY   R-squared:                       0.826\n",
      "Model:                            OLS   Adj. R-squared:                  0.820\n",
      "Method:                 Least Squares   F-statistic:                     144.5\n",
      "Date:                Thu, 18 Feb 2021   Prob (F-statistic):          9.86e-131\n",
      "Time:                        07:44:51   Log-Likelihood:                -3917.4\n",
      "No. Observations:                 379   AIC:                             7861.\n",
      "Df Residuals:                     366   BIC:                             7912.\n",
      "Df Model:                          12                                         \n",
      "Covariance Type:            nonrobust                                         \n",
      "==============================================================================\n",
      "                 coef    std err          t      P>|t|      [0.025      0.975]\n",
      "------------------------------------------------------------------------------\n",
      "const       8805.7835   1574.129      5.594      0.000    5710.311    1.19e+04\n",
      "SALBEGIN       1.3017      0.091     14.345      0.000       1.123       1.480\n",
      "edu_12     -1041.1453   1117.035     -0.932      0.352   -3237.757    1155.466\n",
      "edu_14      -648.4995   3960.605     -0.164      0.870   -8436.898    7139.899\n",
      "edu_15       937.1170   1265.383      0.741      0.459   -1551.216    3425.450\n",
      "edu_18      1740.3533   2820.787      0.617      0.538   -3806.631    7287.338\n",
      "edu_19      2999.3886   2063.909      1.453      0.147   -1059.220    7057.997\n",
      "edu_20     -7435.1979   5571.994     -1.334      0.183   -1.84e+04    3521.942\n",
      "edu_21     -8387.7805   7750.491     -1.082      0.280   -2.36e+04    6853.302\n",
      "mino_1      -852.5905    993.369     -0.858      0.391   -2806.017    1100.837\n",
      "gd_1        2004.8322   1008.923      1.987      0.048      20.818    3988.846\n",
      "jcat_2      1444.4908   1905.431      0.758      0.449   -2302.477    5191.458\n",
      "jcat_3      1.377e+04   1777.007      7.746      0.000    1.03e+04    1.73e+04\n",
      "==============================================================================\n",
      "Omnibus:                      165.150   Durbin-Watson:                   2.053\n",
      "Prob(Omnibus):                  0.000   Jarque-Bera (JB):             1329.138\n",
      "Skew:                           1.638   Prob(JB):                    2.41e-289\n",
      "Kurtosis:                      11.570   Cond. No.                     3.80e+05\n",
      "==============================================================================\n",
      "\n",
      "Notes:\n",
      "[1] Standard Errors assume that the covariance matrix of the errors is correctly specified.\n",
      "[2] The condition number is large, 3.8e+05. This might indicate that there are\n",
      "strong multicollinearity or other numerical problems.\n",
      "-------------\n",
      "RMSE on train data: 7460.171269346517\n",
      "RMSE on test data: 6366.352903928775\n"
     ]
    }
   ],
   "source": [
    "#feature engineering\n",
    "X = df[['SALBEGIN', 'edu_12', 'edu_14', 'edu_15', 'edu_18', 'edu_19', 'edu_20', 'edu_21', 'mino_1', 'gd_1', 'jcat_2', 'jcat_3']]\n",
    "Y = df['SALARY']\n",
    "\n",
    "\n",
    "X_train, X_test, y_train, y_test = train_test_split(X, Y, test_size=0.2, random_state=42) #splitting the dataset\n",
    "\n",
    "\n",
    "X_train = sms.add_constant(X_train) #adding the constant\n",
    "X_test = sms.add_constant(X_test)\n",
    "\n",
    "model = sms.OLS(y_train, X_train).fit() #training the model\n",
    "print_model = model.summary()\n",
    "\n",
    "predictions = model.predict(X_train) #evaluating the model\n",
    "err_train = np.sqrt(mean_squared_error(y_train, predictions))\n",
    "predictions_test = model.predict(X_test)\n",
    "err_test = np.sqrt(mean_squared_error(y_test, predictions_test))\n",
    "\n",
    "print(print_model) #get the test size\n",
    "print (\"-------------\")\n",
    "print (f\"RMSE on train data: {err_train}\")\n",
    "print (f\"RMSE on test data: {err_test}\")"
   ]
  },
  {
   "cell_type": "markdown",
   "id": "front-maria",
   "metadata": {},
   "source": [
    "\n",
    "We now import pickle to save our model in a file."
   ]
  },
  {
   "cell_type": "code",
   "execution_count": 29,
   "id": "ongoing-kenya",
   "metadata": {},
   "outputs": [],
   "source": [
    "import pickle #save the model\n",
    "with open ('ML','wb') as f:\n",
    "    pickle.dump(model,f)"
   ]
  },
  {
   "cell_type": "markdown",
   "id": "continuous-hawaii",
   "metadata": {},
   "source": [
    "The following command can be used to load the corresponding file and then use the trained model by entering a list of variable values. "
   ]
  },
  {
   "cell_type": "code",
   "execution_count": 30,
   "id": "applicable-flower",
   "metadata": {},
   "outputs": [],
   "source": [
    "with open ('ML','rb') as f: #call off the model\n",
    "    ML = pickle.load(f)"
   ]
  },
  {
   "cell_type": "markdown",
   "id": "bacterial-sleep",
   "metadata": {},
   "source": [
    "Try it!"
   ]
  }
 ],
 "metadata": {
  "kernelspec": {
   "display_name": "Python 3",
   "language": "python",
   "name": "python3"
  },
  "language_info": {
   "codemirror_mode": {
    "name": "ipython",
    "version": 3
   },
   "file_extension": ".py",
   "mimetype": "text/x-python",
   "name": "python",
   "nbconvert_exporter": "python",
   "pygments_lexer": "ipython3",
   "version": "3.8.5"
  }
 },
 "nbformat": 4,
 "nbformat_minor": 5
}
